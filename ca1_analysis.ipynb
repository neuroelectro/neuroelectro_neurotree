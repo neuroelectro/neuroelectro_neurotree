{
 "cells": [
  {
   "cell_type": "code",
   "execution_count": 1,
   "metadata": {
    "collapsed": false
   },
   "outputs": [
    {
     "name": "stdout",
     "output_type": "stream",
     "text": [
      "Using Theano backend.\n"
     ]
    }
   ],
   "source": [
    "%matplotlib inline\n",
    "import numpy as np\n",
    "from sklearn.preprocessing import MultiLabelBinarizer,Imputer\n",
    "import pandas as pd\n",
    "import matplotlib.pyplot as plt\n",
    "try:\n",
    "    import urllib2 # Python 2\n",
    "except:\n",
    "    import urllib.request as urllib2 # Python 3\n",
    "import json\n",
    "# Import neurotree api python functions\n",
    "from neurotree_api import get_investigator_path_len, get_neurotree_node_id_from_pmid, get_neurotree_node_info\n",
    "from sklearn.preprocessing import Imputer, StandardScaler\n",
    "from fancyimpute import BiScaler, KNN, NuclearNormMinimization, SoftImpute\n",
    "from sklearn.ensemble import RandomForestRegressor\n",
    "from sklearn.cross_validation import ShuffleSplit"
   ]
  },
  {
   "cell_type": "markdown",
   "metadata": {},
   "source": [
    "## Load data and test API"
   ]
  },
  {
   "cell_type": "code",
   "execution_count": 2,
   "metadata": {
    "collapsed": false
   },
   "outputs": [],
   "source": [
    "# Test NeuroTree website\n",
    "base_api_url = 'http://neurotree.org/'\n",
    "pmid = 11483306\n",
    "query_url = \"http://neurotree.org/beta/include/check_pmid.php?term=11483306\"\n",
    "response = urllib2.urlopen(query_url)"
   ]
  },
  {
   "cell_type": "code",
   "execution_count": 3,
   "metadata": {
    "collapsed": false
   },
   "outputs": [
    {
     "name": "stdout",
     "output_type": "stream",
     "text": [
      "{'path2': [2715, 77014], 'name1': 'Shreejoy J Tripathy', 'stepcount': 2, 'backonly': '1', 'pathcount': 2, 'name2': 'Richard C Gerkin', 'stepstaken': 1, 'pid1': 77014, 'path1': [2715, 4800], 'pid2': 4800}\n",
      "{'path2': None, 'name1': 'Daniel L Alkon', 'stepcount': None, 'backonly': '1', 'pathcount': None, 'name2': 'Claude  Bernard', 'stepstaken': 8, 'pid1': 2218, 'path1': None, 'pid2': 196}\n"
     ]
    },
    {
     "data": {
      "text/plain": [
       "(None, None)"
      ]
     },
     "execution_count": 3,
     "metadata": {},
     "output_type": "execute_result"
    }
   ],
   "source": [
    "# Test the api functions\n",
    "get_neurotree_node_info(4800)\n",
    "node_id = get_neurotree_node_id_from_pmid(11483306)\n",
    "get_investigator_path_len(77014, 4800)\n",
    "get_investigator_path_len(2218, 196)"
   ]
  },
  {
   "cell_type": "code",
   "execution_count": 4,
   "metadata": {
    "collapsed": false
   },
   "outputs": [],
   "source": [
    "# Load the NeuroTree distance file.  \n",
    "with open('dist_mtx.txt','rb') as f:\n",
    "    dist_data = json.loads(f.read().decode('latin1'))\n",
    "    \n",
    "# Parse the NeuroTree distance file into a matrix.  \n",
    "nt_ancestors = list(set([x['p0'] for x in dist_data])) # Extract ancestor list\n",
    "nt_regulars = list(set([x['p1'] for x in dist_data]).union(set([x['p2'] for x in dist_data]))) # Extract regular list.  \n",
    "n_regulars = len(nt_regulars) # Number of regulars.\n",
    "dist_matrix = -1.0 * np.ones((n_regulars,n_regulars)) # Matrix of distances, filled with -1 (no path).  \n",
    "for entry in dist_data: # Iterate over entries in the distance data.  \n",
    "    p0,p1,p2,d = [entry[i] for i in ['p0','p1','p2','d']]\n",
    "    d = np.inf if d=='-1' else int(d)\n",
    "    x1 = nt_regulars.index(p1) # Matrix index of individual with id p1.  \n",
    "    x2 = nt_regulars.index(p2) # Matrix index of individual with id p2.  \n",
    "    dist_matrix[x1,x2] = d # Set forward distance to d.  \n",
    "    dist_matrix[x2,x1] = d # Set reverse distance to d (for symmetry).  \n",
    "for i in range(n_regulars): # For each individual.  \n",
    "    dist_matrix[i,i] = 0 # Set the diagonal entry (self distance) to 0.  "
   ]
  },
  {
   "cell_type": "code",
   "execution_count": 5,
   "metadata": {
    "collapsed": false
   },
   "outputs": [],
   "source": [
    "# Load the NeuroTree fingerprint file.  \n",
    "with open('fingerprint_mtx.txt','rb') as f:\n",
    "    fp_data = json.loads(f.read().decode('latin1'))\n",
    "    \n",
    "# Parse the NeuroTree fingerprint file into a matrix.  \n",
    "ancestors = list(set([x['p0'] for x in fp_data])) # Extract ancestor list\n",
    "regulars = list(set([x['p1'] for x in fp_data])) # Extract list of key nodes\n",
    "key_nodes = list(set([x['p2'] for x in fp_data])) # Extract list of key nodes\n",
    "n_regulars = len(regulars) # Number of regulars\n",
    "n_key_nodes = len(key_nodes) # Number of key nodes\n",
    "fp_matrix = np.inf * np.ones((n_regulars,n_key_nodes)) # Matrix of distances, filled with -1 (no path).  \n",
    "for entry in fp_data: # Iterate over entries in the distance data.  \n",
    "    p0,p1,p2,d = [entry[i] for i in ['p0','p1','p2','d']]\n",
    "    d = np.inf if d=='-1' else int(d)\n",
    "    x1 = regulars.index(p1) # Matrix index of individual with id p1.  \n",
    "    x2 = key_nodes.index(p2) # Matrix index of individual with id p2.  \n",
    "    fp_matrix[x1,x2] = d # Set distance to d.  \n",
    "fp_matrix[np.isinf(fp_matrix)] = 30\n",
    "fp_df = pd.DataFrame(fp_matrix,index=regulars,columns=key_nodes)"
   ]
  },
  {
   "cell_type": "code",
   "execution_count": 6,
   "metadata": {
    "collapsed": true
   },
   "outputs": [],
   "source": [
    "# Load the neuroelectro data dump.  \n",
    "df = pd.read_csv('http://dev.neuroelectro.org/static/src/article_ephys_metadata_curated.csv',delimiter='\\t')"
   ]
  },
  {
   "cell_type": "markdown",
   "metadata": {},
   "source": [
    "## Create a linkage and similarity matrix from the path lengths."
   ]
  },
  {
   "cell_type": "code",
   "execution_count": 7,
   "metadata": {
    "collapsed": false
   },
   "outputs": [],
   "source": [
    "# Sort the pairwise path length matrix by similarity\n",
    "from scipy.spatial.distance import squareform\n",
    "from scipy.cluster.hierarchy import leaders, fclusterdata, linkage, dendrogram, leaves_list\n",
    "\n",
    "d = squareform(dist_matrix, checks = False)\n",
    "Z = linkage(d)\n",
    "sorted_rows = leaves_list(Z)\n",
    "\n",
    "sorted_nt_regulars = [nt_regulars[i] for i in sorted_rows.tolist()]\n",
    "try:\n",
    "    none_index = sorted_nt_regulars.index(None)\n",
    "except ValueError:\n",
    "    has_none_index = False\n",
    "else:\n",
    "    has_none_index = True\n",
    "    del sorted_nt_regulars[none_index]\n",
    "\n",
    "sorted_author_names = [get_neurotree_node_info(int(node_id)) for node_id in sorted_nt_regulars]\n",
    "sorted_author_last_names = []\n",
    "for n in sorted_author_names:\n",
    "    if n and 'lastname' in n:\n",
    "        sorted_author_last_names.append('%s, %s' % (n['lastname'], n['pid']))\n",
    "    else:\n",
    "        sorted_author_last_names.append('UNKN')\n",
    "\n",
    "# sym_path_len_mat_sorted is the sorted path length distance matrix\n",
    "elems = sorted_rows.tolist()\n",
    "if has_none_index:\n",
    "    del elems[none_index]\n",
    "\n",
    "new_order = elems\n",
    "dist_matrix_sorted = dist_matrix[:, new_order][new_order]"
   ]
  },
  {
   "cell_type": "code",
   "execution_count": 8,
   "metadata": {
    "collapsed": false,
    "scrolled": true
   },
   "outputs": [],
   "source": [
    "# Define a data frame for the symmetric path length distance matrix\n",
    "path_df = pd.DataFrame(data = dist_matrix_sorted, index = sorted_nt_regulars, columns = sorted_nt_regulars)\n",
    "sorted_author_last_names_df = pd.DataFrame(data = sorted_author_last_names, index = sorted_nt_regulars, columns = ['names'])"
   ]
  },
  {
   "cell_type": "code",
   "execution_count": 9,
   "metadata": {
    "collapsed": false,
    "scrolled": true
   },
   "outputs": [
    {
     "name": "stderr",
     "output_type": "stream",
     "text": [
      "/Users/rgerkin/Dropbox/python3/lib/python3.4/site-packages/pandas/core/indexing.py:266: SettingWithCopyWarning: \n",
      "A value is trying to be set on a copy of a slice from a DataFrame.\n",
      "Try using .loc[row_indexer,col_indexer] = value instead\n",
      "\n",
      "See the caveats in the documentation: http://pandas.pydata.org/pandas-docs/stable/indexing.html#indexing-view-versus-copy\n",
      "  self.obj[key] = _infer_fill_value(value)\n",
      "/Users/rgerkin/Dropbox/python3/lib/python3.4/site-packages/pandas/core/indexing.py:426: SettingWithCopyWarning: \n",
      "A value is trying to be set on a copy of a slice from a DataFrame.\n",
      "Try using .loc[row_indexer,col_indexer] = value instead\n",
      "\n",
      "See the caveats in the documentation: http://pandas.pydata.org/pandas-docs/stable/indexing.html#indexing-view-versus-copy\n",
      "  self.obj[item] = s\n"
     ]
    }
   ],
   "source": [
    "# Map neuroelectro pubmed ids to neurotree node ids\n",
    "neurotree_id_list = []\n",
    "cell_type_name = 'Hippocampus CA1 pyramidal cell'\n",
    "ca1_df = df[df['NeuronName'].isin([cell_type_name])]\n",
    "ca1_df.head()\n",
    "\n",
    "cell_match = df['NeuronName'].isin([cell_type_name])\n",
    "pmid_list = list(set(df['Pmid'][cell_match]))\n",
    "df.loc[:,'NeuroTreeID'] = np.zeros(len(df['Pmid']))\n",
    "pmid_to_node_dict = {}\n",
    "\n",
    "for index, row in ca1_df.iterrows():\n",
    "    pmid = row['Pmid']\n",
    "    node_id = get_neurotree_node_id_from_pmid(pmid)\n",
    "    ca1_df.loc[index,'NeuroTreeID'] = node_id"
   ]
  },
  {
   "cell_type": "code",
   "execution_count": 10,
   "metadata": {
    "collapsed": false
   },
   "outputs": [],
   "source": [
    "# Create a new data frame summarizing neurotree node info and neuroelectro pub info\n",
    "new_df = ca1_df[['NeuroTreeID', 'LastAuthor', 'Pmid']]\n",
    "new_df = new_df.drop_duplicates(['NeuroTreeID', 'LastAuthor'])\n",
    "\n",
    "new_df.sort_values(by = ['NeuroTreeID', 'LastAuthor'])\n",
    "\n",
    "new_df.loc[:,'Connectedness'] = np.empty(len(new_df['Pmid']))\n",
    "new_df.loc[:,'Connectedness'] = np.NAN\n",
    "new_df.head()\n",
    "\n",
    "for index, row in new_df.iterrows():\n",
    "    pid = row['NeuroTreeID']\n",
    "    if pid in path_df.columns:\n",
    "        num_inf = sum(path_df[pid].values == np.inf) + sum(np.isnan(path_df[pid].values))\n",
    "        \n",
    "        pct_inf = num_inf / (float(len(path_df.columns)) - 1)\n",
    "        new_df.loc[index,'Connectedness'] = 1 - pct_inf\n",
    "    else:\n",
    "        new_df.loc[index,'Connectedness'] = np.nan\n",
    "\n",
    "new_df = new_df.sort_values(by = ['Connectedness', 'NeuroTreeID', 'LastAuthor'], ascending = [0, 1, 1])\n",
    "new_df.to_csv('ca1_pyr_auths.csv', index = False)"
   ]
  },
  {
   "cell_type": "code",
   "execution_count": 11,
   "metadata": {
    "collapsed": false,
    "scrolled": false
   },
   "outputs": [],
   "source": [
    "# Define a data frame min_df as a cleaned data frame of the path length matrix between neurotree node ids\n",
    "inds = new_df[new_df['Connectedness'] > .2]['NeuroTreeID']\n",
    "valid_pmids = new_df[new_df['Connectedness'] > .2]['Pmid']\n",
    "keep_inds = path_df.index.isin(inds)\n",
    "\n",
    "min_df = path_df.loc[keep_inds,keep_inds]\n",
    "min_df[min_df > 20] = 20\n",
    "min_df[np.isnan(min_df)] = 20\n",
    "\n",
    "names = sorted_author_last_names_df.ix[keep_inds, 'names'].values"
   ]
  },
  {
   "cell_type": "code",
   "execution_count": 12,
   "metadata": {
    "collapsed": false
   },
   "outputs": [
    {
     "data": {
      "image/png": "[encoded data removed]",
      "text/plain": [
       "<matplotlib.figure.Figure at 0x10c01f358>"
      ]
     },
     "metadata": {},
     "output_type": "display_data"
    }
   ],
   "source": [
    "# Plot the pairwise matrix of neurotree minimum path lengths\n",
    "fig, ax = plt.subplots()\n",
    "heatmap = ax.pcolor(min_df)\n",
    "fig = plt.gcf()\n",
    "fig.set_size_inches(8, 8)\n",
    "\n",
    "ax.set_frame_on(False) # Turn off the frame\n",
    "ax.set_yticks(np.arange(min_df.shape[0]) + 0.5, minor=False) # add major ticks\n",
    "ax.set_xticks(np.arange(min_df.shape[1]) + 0.5, minor=False)\n",
    "ax.invert_yaxis() # Want a more natural, table-like display\n",
    "ax.xaxis.tick_top()\n",
    "labels = names\n",
    "ax.set_xticklabels(labels, minor=False)\n",
    "ax.set_yticklabels(labels, minor=False)\n",
    "plt.xticks(rotation=90)\n",
    "ax.grid(False)\n",
    "ax = plt.gca() # Turn off all the ticks\n",
    "\n",
    "for t in ax.xaxis.get_major_ticks():\n",
    "    t.tick1On = False\n",
    "    t.tick2On = False\n",
    "for t in ax.yaxis.get_major_ticks():\n",
    "    t.tick1On = False\n",
    "    t.tick2On = False"
   ]
  },
  {
   "cell_type": "markdown",
   "metadata": {},
   "source": [
    "## Build matrices and do prediction"
   ]
  },
  {
   "cell_type": "code",
   "execution_count": 13,
   "metadata": {
    "collapsed": true
   },
   "outputs": [],
   "source": [
    "y_var_names = ['rin','rmp','apthr','apamp','aphw','tau','ahpamp'] "
   ]
  },
  {
   "cell_type": "code",
   "execution_count": 14,
   "metadata": {
    "collapsed": false
   },
   "outputs": [
    {
     "name": "stderr",
     "output_type": "stream",
     "text": [
      "/Users/rgerkin/Dropbox/python3/lib/python3.4/site-packages/pandas/core/indexing.py:117: SettingWithCopyWarning: \n",
      "A value is trying to be set on a copy of a slice from a DataFrame\n",
      "\n",
      "See the caveats in the documentation: http://pandas.pydata.org/pandas-docs/stable/indexing.html#indexing-view-versus-copy\n",
      "  self._setitem_with_indexer(indexer, value)\n",
      "/Users/rgerkin/Dropbox/python3/lib/python3.4/site-packages/ipykernel/__main__.py:5: SettingWithCopyWarning: \n",
      "A value is trying to be set on a copy of a slice from a DataFrame\n",
      "\n",
      "See the caveats in the documentation: http://pandas.pydata.org/pandas-docs/stable/indexing.html#indexing-view-versus-copy\n"
     ]
    },
    {
     "name": "stdout",
     "output_type": "stream",
     "text": [
      "[BiScaler] Initial log residual value = 10.139585\n",
      "[BiScaler] Iter 1: log residual = -68.520577, log improvement ratio=78.660162\n",
      "[BiScaler] Iter 2: log residual = -68.520577, log improvement ratio=0.000000\n",
      "Computing pairwise distances between 133 samples\n",
      "Computing distances for sample #1/133, elapsed time: 0.000\n",
      "Computing distances for sample #101/133, elapsed time: 0.003\n",
      "Imputing row 1/133 with 3 missing columns, elapsed time: 0.004\n",
      "Imputing row 101/133 with 2 missing columns, elapsed time: 0.008\n",
      "[KNN] Warning: 8/931 still missing after imputation, replacing with 0\n"
     ]
    }
   ],
   "source": [
    "def build_y():\n",
    "    # Define a matrix composed of CA1 publication ephys values\n",
    "    ndf = ca1_df[y_var_names]\n",
    "    has_non_na_y_vals = ndf[y_var_names].isnull().all(axis=1)\n",
    "    ndf.loc[has_non_na_y_vals,'rin'] = 100\n",
    "    #print(ndf.loc[has_non_na_y_vals]['rin'])\n",
    "    y_matrix = ndf.as_matrix()\n",
    "    #imputer = Imputer(strategy='median',axis=0)\n",
    "    biscaler = BiScaler(center_rows = False, scale_rows = False)\n",
    "    standardscaler = StandardScaler()\n",
    "    y_scaled = biscaler.fit_transform(y_matrix) # Center and scale columns to unit variance\n",
    "    y_imputed = KNN(k=3).complete(y_scaled)\n",
    "\n",
    "    # The final y matrix of ephys values\n",
    "    y_df = pd.DataFrame(y_imputed, index = ca1_df.index)\n",
    "    return y_df,y_imputed,y_scaled\n",
    "\n",
    "y_df,y_imputed,y_scaled = build_y()"
   ]
  },
  {
   "cell_type": "code",
   "execution_count": 15,
   "metadata": {
    "collapsed": true
   },
   "outputs": [],
   "source": [
    "def build_x(ca1_df,min_df,fp_df,include_neurotree=False):\n",
    "    # Now getting back to the analysis of the neuroelectro data\n",
    "    # Define a matrix composed of CA1 publication metadata values\n",
    "    # Uses ca1_df defined above, a subset of the neuroelectro data import\n",
    "    \n",
    "    # include_neurotree=False: don't use it\n",
    "    # include_neurotree='min': use the distances to the well-connected nodes\n",
    "    # include_neurotree='fp': use the fingerprint matrix\n",
    "    assert include_neurotree in [False,'min','fp']\n",
    "    \n",
    "    from sklearn.preprocessing import Imputer, StandardScaler\n",
    "    from fancyimpute import BiScaler, KNN, NuclearNormMinimization, SoftImpute\n",
    "    imputer = Imputer(strategy='median',axis=0)\n",
    "    biscaler = BiScaler(center_rows = False, scale_rows = False)\n",
    "    standardscaler = StandardScaler()\n",
    "\n",
    "    x_features = ['Species','Strain','ElectrodeType',\n",
    "                'PrepType','JxnPotential','JxnOffset','RecTemp','AnimalAge','AnimalWeight',\n",
    "                #'PubYear', \n",
    "                'external_0_Mg','external_0_Ca','external_0_Na','external_0_Cl','external_0_K',\n",
    "                'external_0_pH','internal_0_Mg',\n",
    "                'internal_0_Ca','internal_0_Na','internal_0_Cl','internal_0_K','internal_0_pH',]\n",
    "\n",
    "    if include_neurotree:\n",
    "        x_features += ['NeuroTreeID']\n",
    "\n",
    "    x_df = ca1_df[x_features]\n",
    "    x_df.loc[:,'AnimalAge'] = np.log10(x_df[['AnimalAge']])\n",
    "    x_df.loc[:,'JxnOffset'] = np.abs(x_df[['JxnOffset']])\n",
    "    \n",
    "    if include_neurotree == 'min':\n",
    "        x_features += list(min_df) # Add the path lengths to the well-connected nodes.  \n",
    "        for f in list(min_df):\n",
    "            vec = np.zeros(len(x_df['NeuroTreeID']))\n",
    "            for i in range(len(vec)):\n",
    "                nt_id = x_df['NeuroTreeID'].iloc[i]\n",
    "                if (nt_id is not None) and (nt_id in list(path_df)):\n",
    "                    vec[i] = path_df.loc[nt_id,f]\n",
    "                    if vec[i] == np.inf:\n",
    "                        vec[i] = 99\n",
    "                else:\n",
    "                    vec[i] = np.nan\n",
    "            x_df[f] = vec\n",
    "            \n",
    "    if include_neurotree == 'fp':\n",
    "        x_features += list(fp_df) # Add the path lengths to the well-connected nodes.  \n",
    "        for f in list(fp_df):\n",
    "            vec = np.zeros(len(x_df['NeuroTreeID']))\n",
    "            for i in range(len(vec)):\n",
    "                nt_id = x_df['NeuroTreeID'].iloc[i]\n",
    "                if (nt_id is not None) and (nt_id in fp_df.index):\n",
    "                    vec[i] = fp_df.loc[nt_id,f]\n",
    "                    if vec[i] == np.inf:\n",
    "                        vec[i] = 99\n",
    "                else:\n",
    "                    vec[i] = np.nan\n",
    "            x_df[f] = vec\n",
    "\n",
    "    # Replace columns of the feature matrix that contain labels (i.e. words) with columns\n",
    "    # of indicator variables.  Also re-encode NaNs.  \n",
    "    x_clean = None\n",
    "    new_features = []\n",
    "    for f in x_features:\n",
    "        mlb = None\n",
    "        col = x_df[f].as_matrix().copy()\n",
    "        try:\n",
    "            new_cols = col.astype('float').reshape(-1,1)\n",
    "        except ValueError:\n",
    "            options = []\n",
    "            for i in range(len(col)):\n",
    "                if type(col[i]) is float:\n",
    "                    col[i] = 'NaN'\n",
    "                col[i] = col[i].split(', ')\n",
    "                for option in col[i]:\n",
    "                    options.append(option)\n",
    "            options = list(set(options))\n",
    "            mlb = MultiLabelBinarizer()\n",
    "            new_cols = mlb.fit_transform(col)\n",
    "        if x_clean is not None:\n",
    "            x_clean = np.hstack((x_clean,new_cols))\n",
    "        else:\n",
    "            x_clean = new_cols\n",
    "        if mlb is None:\n",
    "            new_features += [f]\n",
    "        else:\n",
    "            new_features += ['%s_%s' % (f,mlb.classes_[i]) for i in range(new_cols.shape[1])]\n",
    "\n",
    "    # center and scale columsn so they have unit variance\n",
    "    x_scaled = biscaler.fit_transform(x_clean)\n",
    "    x_imputed = KNN(k=3).complete(x_scaled)\n",
    "\n",
    "    # the final data frame for metadata\n",
    "    x_df = pd.DataFrame(x_imputed, index = ca1_df.index, columns = new_features)\n",
    "    return x_df,x_imputed,new_features"
   ]
  },
  {
   "cell_type": "code",
   "execution_count": 16,
   "metadata": {
    "collapsed": false
   },
   "outputs": [],
   "source": [
    "def fit_model(y_imputed,y_scaled,x_imputed):\n",
    "    # Predict ephys parameters using the solution/species metadata in x_matrix_df\n",
    "    rfc = RandomForestRegressor(n_estimators=100,random_state=0)\n",
    "    n_obs = y_imputed.shape[0]\n",
    "    n_splits = 25\n",
    "    n_props = len(y_var_names)\n",
    "    ss = ShuffleSplit(n_obs,n_iter=n_splits,test_size=0.2,random_state=0)\n",
    "    rs = np.zeros((n_props,n_splits))\n",
    "    important = np.zeros((x_imputed.shape[1],n_splits))\n",
    "\n",
    "    # Fit the model, using cross-validation with 'n_splits' train/test splits.  \n",
    "    for i,(train,test) in enumerate(ss):\n",
    "        rfc.fit(x_imputed[train,:],y_imputed[train,:])\n",
    "        y_predict = rfc.predict(x_imputed[test,:])\n",
    "        y_obs = y_scaled[test,:]\n",
    "        y_obs = np.ma.array(y_obs,mask=np.isnan(y_obs))\n",
    "        for j in range(n_props):\n",
    "            rs[j,i] = np.ma.corrcoef(y_predict[:,j],y_obs[:,j])[0,1]\n",
    "            important[:,i] = rfc.feature_importances_\n",
    "    return rs,important"
   ]
  },
  {
   "cell_type": "code",
   "execution_count": 17,
   "metadata": {
    "collapsed": true
   },
   "outputs": [],
   "source": [
    "from neurotree_api import get_neurotree_node_info\n",
    "def node2name(node):\n",
    "    node = int(node)\n",
    "    info = get_neurotree_node_info(node)\n",
    "    return '%s %s' % (info['firstname'],info['lastname'])"
   ]
  },
  {
   "cell_type": "code",
   "execution_count": 18,
   "metadata": {
    "collapsed": false
   },
   "outputs": [],
   "source": [
    "def report(rs,important,new_features):\n",
    "    # Mean out-of-sample correlation between predicted and actual ephys values\n",
    "    for j,ephys_prop in enumerate(y_var_names):\n",
    "        print('%s: %.2f +/- %.2f' % (ephys_prop,rs[j,:].mean(),rs[j,:].std()/np.sqrt(rs.shape[1])))\n",
    "\n",
    "    # Top 10 most important features\n",
    "    print('')\n",
    "    important_ = important.mean(axis=1)\n",
    "    ranks = range(len(important_))\n",
    "    ranks = sorted(ranks,key=lambda x:important_[x],reverse=True)\n",
    "    for k in range(1,11):\n",
    "        feature = new_features[ranks[k]]    \n",
    "        try:\n",
    "            int(feature)\n",
    "        except:\n",
    "            pass\n",
    "        else:\n",
    "            feature = node2name(feature)\n",
    "        print('%d) %s' % (k,feature)) # Mean correlation across hold-out samples))"
   ]
  },
  {
   "cell_type": "code",
   "execution_count": 19,
   "metadata": {
    "collapsed": false
   },
   "outputs": [
    {
     "name": "stdout",
     "output_type": "stream",
     "text": [
      "[BiScaler] Initial log residual value = 13.848401\n",
      "[BiScaler] Iter 1: log residual = -62.969691, log improvement ratio=76.818092\n",
      "[BiScaler] Iter 2: log residual = -62.969691, log improvement ratio=0.000000\n",
      "Computing pairwise distances between 133 samples\n",
      "Computing distances for sample #1/133, elapsed time: 0.001\n",
      "Computing distances for sample #101/133, elapsed time: 0.005\n",
      "Imputing row 1/133 with 4 missing columns, elapsed time: 0.007\n",
      "Imputing row 101/133 with 5 missing columns, elapsed time: 0.011\n",
      "[BiScaler] Initial log residual value = 19.147026"
     ]
    },
    {
     "name": "stderr",
     "output_type": "stream",
     "text": [
      "/Users/rgerkin/Dropbox/python3/lib/python3.4/site-packages/ipykernel/__main__.py:43: SettingWithCopyWarning: \n",
      "A value is trying to be set on a copy of a slice from a DataFrame.\n",
      "Try using .loc[row_indexer,col_indexer] = value instead\n",
      "\n",
      "See the caveats in the documentation: http://pandas.pydata.org/pandas-docs/stable/indexing.html#indexing-view-versus-copy\n",
      "/Users/rgerkin/Dropbox/python3/lib/python3.4/site-packages/ipykernel/__main__.py:57: SettingWithCopyWarning: \n",
      "A value is trying to be set on a copy of a slice from a DataFrame.\n",
      "Try using .loc[row_indexer,col_indexer] = value instead\n",
      "\n",
      "See the caveats in the documentation: http://pandas.pydata.org/pandas-docs/stable/indexing.html#indexing-view-versus-copy\n"
     ]
    },
    {
     "name": "stdout",
     "output_type": "stream",
     "text": [
      "\n",
      "[BiScaler] Iter 1: log residual = -62.945448, log improvement ratio=82.092474\n",
      "[BiScaler] Iter 2: log residual = -62.945448, log improvement ratio=0.000000\n",
      "Computing pairwise distances between 133 samples\n",
      "Computing distances for sample #1/133, elapsed time: 0.002\n",
      "Computing distances for sample #101/133, elapsed time: 0.009\n",
      "Imputing row 1/133 with 39 missing columns, elapsed time: 0.012\n",
      "Imputing row 101/133 with 5 missing columns, elapsed time: 0.030\n",
      "[BiScaler] Initial log residual value = 19.146937\n",
      "[BiScaler] Iter 1: log residual = -62.928446, log improvement ratio=82.075382\n",
      "[BiScaler] Iter 2: log residual = -62.928446, log improvement ratio=0.000000\n",
      "Computing pairwise distances between 133 samples\n",
      "Computing distances for sample #1/133, elapsed time: 0.001\n",
      "Computing distances for sample #101/133, elapsed time: 0.008\n",
      "Imputing row 1/133 with 54 missing columns, elapsed time: 0.011\n",
      "Imputing row 101/133 with 5 missing columns, elapsed time: 0.030\n"
     ]
    }
   ],
   "source": [
    "# Build X matrices for various kinds of neurotree data\n",
    "x_df_no,x_imputed_no,new_features_no = build_x(ca1_df,min_df,fp_df,include_neurotree=False)\n",
    "x_df_min,x_imputed_min,new_features_min = build_x(ca1_df,min_df,fp_df,include_neurotree='min')\n",
    "x_df_fp,x_imputed_fp,new_features_fp = build_x(ca1_df,min_df,fp_df,include_neurotree='fp')"
   ]
  },
  {
   "cell_type": "code",
   "execution_count": 20,
   "metadata": {
    "collapsed": false
   },
   "outputs": [
    {
     "name": "stdout",
     "output_type": "stream",
     "text": [
      "rin: 0.67 +/- 0.03\n",
      "rmp: 0.58 +/- 0.04\n",
      "apthr: 0.43 +/- 0.06\n",
      "apamp: 0.69 +/- 0.02\n",
      "aphw: 0.56 +/- 0.04\n",
      "tau: 0.65 +/- 0.03\n",
      "ahpamp: 0.49 +/- 0.07\n",
      "\n",
      "1) JxnOffset\n",
      "2) external_0_Ca\n",
      "3) external_0_Mg\n",
      "4) external_0_Cl\n",
      "5) internal_0_Ca\n",
      "6) internal_0_K\n",
      "7) internal_0_pH\n",
      "8) RecTemp\n",
      "9) external_0_K\n",
      "10) external_0_Na\n"
     ]
    }
   ],
   "source": [
    "# Fit the model that excludes neurotree data\n",
    "rs,important = fit_model(y_imputed,y_scaled,x_imputed_no)\n",
    "report(rs,important,new_features_no)"
   ]
  },
  {
   "cell_type": "code",
   "execution_count": 21,
   "metadata": {
    "collapsed": false
   },
   "outputs": [
    {
     "name": "stdout",
     "output_type": "stream",
     "text": [
      "rin: 0.65 +/- 0.03\n",
      "rmp: 0.57 +/- 0.04\n",
      "apthr: 0.44 +/- 0.06\n",
      "apamp: 0.68 +/- 0.03\n",
      "aphw: 0.56 +/- 0.04\n",
      "tau: 0.63 +/- 0.03\n",
      "ahpamp: 0.39 +/- 0.08\n",
      "\n",
      "1) JxnOffset\n",
      "2) Heinz Beck\n",
      "3) external_0_Mg\n",
      "4) external_0_Ca\n",
      "5) external_0_Cl\n",
      "6) external_0_K\n",
      "7) internal_0_Ca\n",
      "8) external_0_Na\n",
      "9) AnimalWeight\n",
      "10) NeuroTreeID\n"
     ]
    }
   ],
   "source": [
    "# Fit the model that includes path lengths to min_df nodes (i.e. highly connected investigators)\n",
    "rs,important = fit_model(y_imputed,y_scaled,x_imputed_min)\n",
    "report(rs,important,new_features_min)"
   ]
  },
  {
   "cell_type": "code",
   "execution_count": 22,
   "metadata": {
    "collapsed": false
   },
   "outputs": [
    {
     "name": "stdout",
     "output_type": "stream",
     "text": [
      "rin: 0.65 +/- 0.03\n",
      "rmp: 0.56 +/- 0.04\n",
      "apthr: 0.46 +/- 0.05\n",
      "apamp: 0.68 +/- 0.03\n",
      "aphw: 0.56 +/- 0.04\n",
      "tau: 0.64 +/- 0.04\n",
      "ahpamp: 0.44 +/- 0.08\n",
      "\n",
      "1) JxnOffset\n",
      "2) external_0_Mg\n",
      "3) external_0_K\n",
      "4) external_0_Ca\n",
      "5) external_0_Cl\n",
      "6) JxnPotential_NaN\n",
      "7) external_0_Na\n",
      "8) internal_0_K\n",
      "9) NeuroTreeID\n",
      "10) internal_0_Ca\n"
     ]
    }
   ],
   "source": [
    "# Fit the model that includes path lengths to fp_df nodes (i.e. the 50 fingerprint investigators)\n",
    "rs,important = fit_model(y_imputed,y_scaled,x_imputed_fp)\n",
    "report(rs,important,new_features_fp)"
   ]
  }
 ],
 "metadata": {
  "kernelspec": {
   "display_name": "Python 3",
   "language": "python",
   "name": "python3"
  },
  "language_info": {
   "codemirror_mode": {
    "name": "ipython",
    "version": 3
   },
   "file_extension": ".py",
   "mimetype": "text/x-python",
   "name": "python",
   "nbconvert_exporter": "python",
   "pygments_lexer": "ipython3",
   "version": "3.4.1"
  }
 },
 "nbformat": 4,
 "nbformat_minor": 0
}
