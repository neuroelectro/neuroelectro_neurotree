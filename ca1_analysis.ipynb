{
 "cells": [
  {
   "cell_type": "code",
   "execution_count": 1,
   "metadata": {
    "collapsed": false
   },
   "outputs": [
    {
     "name": "stdout",
     "output_type": "stream",
     "text": [
      "Using Theano backend.\n"
     ]
    }
   ],
   "source": [
    "%matplotlib inline\n",
    "import numpy as np\n",
    "from sklearn.preprocessing import MultiLabelBinarizer,Imputer\n",
    "import pandas as pd\n",
    "import matplotlib.pyplot as plt\n",
    "try:\n",
    "    import urllib2 # Python 2\n",
    "except:\n",
    "    import urllib.request as urllib2 # Python 3\n",
    "import json\n",
    "# Import neurotree api python functions\n",
    "from neurotree_api import get_investigator_path_len, get_neurotree_node_id_from_pmid, get_neurotree_node_info\n",
    "from sklearn.preprocessing import Imputer, StandardScaler\n",
    "from fancyimpute import BiScaler, KNN, NuclearNormMinimization, SoftImpute\n",
    "from sklearn.ensemble import RandomForestRegressor\n",
    "from sklearn.cross_validation import ShuffleSplit\n",
    "from scipy.spatial.distance import squareform\n",
    "from scipy.cluster.hierarchy import leaders, fclusterdata, linkage, dendrogram, leaves_list"
   ]
  },
  {
   "cell_type": "markdown",
   "metadata": {},
   "source": [
    "## Load data and test API"
   ]
  },
  {
   "cell_type": "code",
   "execution_count": 2,
   "metadata": {
    "collapsed": false
   },
   "outputs": [],
   "source": [
    "# Test NeuroTree website\n",
    "base_api_url = 'http://neurotree.org/'\n",
    "pmid = 11483306\n",
    "query_url = \"http://neurotree.org/beta/include/check_pmid.php?term=11483306\"\n",
    "response = urllib2.urlopen(query_url)"
   ]
  },
  {
   "cell_type": "code",
   "execution_count": 3,
   "metadata": {
    "collapsed": false
   },
   "outputs": [
    {
     "data": {
      "text/plain": [
       "(None, None)"
      ]
     },
     "execution_count": 3,
     "metadata": {},
     "output_type": "execute_result"
    }
   ],
   "source": [
    "# Test the api functions\n",
    "get_neurotree_node_info(4800)\n",
    "node_id = get_neurotree_node_id_from_pmid(11483306)\n",
    "get_investigator_path_len(77014, 4800)\n",
    "get_investigator_path_len(2218, 196)"
   ]
  },
  {
   "cell_type": "code",
   "execution_count": 4,
   "metadata": {
    "collapsed": false
   },
   "outputs": [],
   "source": [
    "# Load the NeuroTree distance file.  \n",
    "with open('dist_mtx.txt','rb') as f:\n",
    "    dist_data = json.loads(f.read().decode('latin1'))\n",
    "    \n",
    "# Parse the NeuroTree distance file into a matrix.  \n",
    "nt_ancestors = list(set([x['p0'] for x in dist_data])) # Extract ancestor list\n",
    "nt_regulars = list(set([x['p1'] for x in dist_data]).union(set([x['p2'] for x in dist_data]))) # Extract regular list.  \n",
    "n_regulars = len(nt_regulars) # Number of regulars.\n",
    "dist_matrix = -1.0 * np.ones((n_regulars,n_regulars)) # Matrix of distances, filled with -1 (no path).  \n",
    "for entry in dist_data: # Iterate over entries in the distance data.  \n",
    "    p0,p1,p2,d = [entry[i] for i in ['p0','p1','p2','d']]\n",
    "    d = np.inf if d=='-1' else int(d)\n",
    "    x1 = nt_regulars.index(p1) # Matrix index of individual with id p1.  \n",
    "    x2 = nt_regulars.index(p2) # Matrix index of individual with id p2.  \n",
    "    dist_matrix[x1,x2] = d # Set forward distance to d.  \n",
    "    dist_matrix[x2,x1] = d # Set reverse distance to d (for symmetry).  \n",
    "for i in range(n_regulars): # For each individual.  \n",
    "    dist_matrix[i,i] = 0 # Set the diagonal entry (self distance) to 0.  "
   ]
  },
  {
   "cell_type": "code",
   "execution_count": 5,
   "metadata": {
    "collapsed": false
   },
   "outputs": [],
   "source": [
    "# Load the NeuroTree fingerprint file.  \n",
    "with open('fingerprint_mtx.txt','rb') as f:\n",
    "    fp_data = json.loads(f.read().decode('latin1'))\n",
    "    \n",
    "# Parse the NeuroTree fingerprint file into a matrix.  \n",
    "ancestors = list(set([x['p0'] for x in fp_data])) # Extract ancestor list\n",
    "regulars = list(set([x['p1'] for x in fp_data])) # Extract list of regular nodes\n",
    "key_nodes = list(set([x['p2'] for x in fp_data])) # Extract list of key nodes\n",
    "n_regulars = len(regulars) # Number of regulars\n",
    "n_key_nodes = len(key_nodes) # Number of key nodes\n",
    "fp_matrix = np.inf * np.ones((n_regulars,n_key_nodes)) # Matrix of distances, filled with -1 (no path).  \n",
    "for entry in fp_data: # Iterate over entries in the distance data.  \n",
    "    p0,p1,p2,d = [entry[i] for i in ['p0','p1','p2','d']]\n",
    "    d = np.inf if d=='-1' else int(d)\n",
    "    x1 = regulars.index(p1) # Matrix index of individual with id p1.  \n",
    "    x2 = key_nodes.index(p2) # Matrix index of individual with id p2.  \n",
    "    fp_matrix[x1,x2] = d # Set distance to d.  \n",
    "fp_matrix[np.isinf(fp_matrix)] = 30\n",
    "fp_df = pd.DataFrame(fp_matrix,index=regulars,columns=key_nodes)"
   ]
  },
  {
   "cell_type": "code",
   "execution_count": 6,
   "metadata": {
    "collapsed": true
   },
   "outputs": [],
   "source": [
    "# Load the neuroelectro data dump.  \n",
    "df = pd.read_csv('http://dev.neuroelectro.org/static/src/article_ephys_metadata_curated.csv',delimiter='\\t')"
   ]
  },
  {
   "cell_type": "markdown",
   "metadata": {},
   "source": [
    "## Create a linkage and similarity matrix from the path lengths."
   ]
  },
  {
   "cell_type": "code",
   "execution_count": 7,
   "metadata": {
    "collapsed": false
   },
   "outputs": [],
   "source": [
    "# Sort the pairwise path length matrix by similarity\n",
    "d = squareform(dist_matrix, checks = False)\n",
    "Z = linkage(d)\n",
    "sorted_rows = leaves_list(Z)\n",
    "\n",
    "sorted_nt_regulars = [nt_regulars[i] for i in sorted_rows.tolist()]\n",
    "try:\n",
    "    none_index = sorted_nt_regulars.index(None)\n",
    "except ValueError:\n",
    "    has_none_index = False\n",
    "else:\n",
    "    has_none_index = True\n",
    "    del sorted_nt_regulars[none_index]\n",
    "\n",
    "sorted_author_names = [get_neurotree_node_info(int(node_id)) for node_id in sorted_nt_regulars]\n",
    "sorted_author_last_names = []\n",
    "for n in sorted_author_names:\n",
    "    if n and 'lastname' in n:\n",
    "        sorted_author_last_names.append('%s, %s' % (n['lastname'], n['pid']))\n",
    "    else:\n",
    "        sorted_author_last_names.append('UNKN')\n",
    "\n",
    "# sym_path_len_mat_sorted is the sorted path length distance matrix\n",
    "elems = sorted_rows.tolist()\n",
    "if has_none_index:\n",
    "    del elems[none_index]\n",
    "\n",
    "new_order = elems\n",
    "dist_matrix_sorted = dist_matrix[:, new_order][new_order]"
   ]
  },
  {
   "cell_type": "code",
   "execution_count": 8,
   "metadata": {
    "collapsed": false,
    "scrolled": true
   },
   "outputs": [],
   "source": [
    "# Define a data frame for the symmetric path length distance matrix\n",
    "path_df = pd.DataFrame(data = dist_matrix_sorted, index = sorted_nt_regulars, columns = sorted_nt_regulars)\n",
    "sorted_author_last_names_df = pd.DataFrame(data = sorted_author_last_names, index = sorted_nt_regulars, columns = ['names'])"
   ]
  },
  {
   "cell_type": "code",
   "execution_count": 16,
   "metadata": {
    "collapsed": false,
    "scrolled": true
   },
   "outputs": [],
   "source": [
    "# Map neuroelectro pubmed ids to neurotree node ids\n",
    "neurotree_id_list = []\n",
    "cell_type_name = 'Hippocampus CA1 pyramidal cell'\n",
    "ca1_df = df[df['NeuronName'].isin([cell_type_name])]\n",
    "ca1_df.head()\n",
    "\n",
    "cell_match = df['NeuronName'].isin([cell_type_name])\n",
    "pmid_list = list(set(df['Pmid'][cell_match]))\n",
    "df.loc[:,'NeuroTreeID'] = np.zeros(len(df['Pmid']))\n",
    "pmid_to_node_dict = {}\n",
    "\n",
    "for index, row in ca1_df.iterrows():\n",
    "    pmid = row['Pmid']\n",
    "    node_id = get_neurotree_node_id_from_pmid(pmid)\n",
    "    ca1_df.loc[index,'NeuroTreeID'] = node_id"
   ]
  },
  {
   "cell_type": "code",
   "execution_count": 17,
   "metadata": {
    "collapsed": false
   },
   "outputs": [],
   "source": [
    "# Create a new data frame summarizing neurotree node info and neuroelectro pub info\n",
    "new_df = ca1_df[['NeuroTreeID', 'LastAuthor', 'Pmid']]\n",
    "new_df = new_df.drop_duplicates(['NeuroTreeID', 'LastAuthor'])\n",
    "\n",
    "new_df.sort_values(by = ['NeuroTreeID', 'LastAuthor'])\n",
    "\n",
    "new_df.loc[:,'Connectedness'] = np.empty(len(new_df['Pmid']))\n",
    "new_df.loc[:,'Connectedness'] = np.NAN\n",
    "new_df.head()\n",
    "\n",
    "for index, row in new_df.iterrows():\n",
    "    pid = row['NeuroTreeID']\n",
    "    if pid in path_df.columns:\n",
    "        num_inf = sum(path_df[pid].values == np.inf) + sum(np.isnan(path_df[pid].values))\n",
    "        \n",
    "        pct_inf = num_inf / (float(len(path_df.columns)) - 1)\n",
    "        new_df.loc[index,'Connectedness'] = 1 - pct_inf\n",
    "    else:\n",
    "        new_df.loc[index,'Connectedness'] = np.nan\n",
    "\n",
    "new_df = new_df.sort_values(by = ['Connectedness', 'NeuroTreeID', 'LastAuthor'], ascending = [0, 1, 1])\n",
    "new_df.to_csv('ca1_pyr_auths.csv', index = False)"
   ]
  },
  {
   "cell_type": "code",
   "execution_count": 18,
   "metadata": {
    "collapsed": false,
    "scrolled": false
   },
   "outputs": [],
   "source": [
    "# Define a data frame min_df as a cleaned data frame of the path length matrix between neurotree node ids\n",
    "inds = new_df[new_df['Connectedness'] > .2]['NeuroTreeID']\n",
    "valid_pmids = new_df[new_df['Connectedness'] > .2]['Pmid']\n",
    "keep_inds = path_df.index.isin(inds)\n",
    "\n",
    "min_df = path_df.loc[keep_inds,keep_inds]\n",
    "min_df[min_df > 20] = 20\n",
    "min_df[np.isnan(min_df)] = 20\n",
    "\n",
    "names = sorted_author_last_names_df.ix[keep_inds, 'names'].values"
   ]
  },
  {
   "cell_type": "code",
   "execution_count": 19,
   "metadata": {
    "collapsed": false
   },
   "outputs": [
    {
     "data": {
      "image/png": "[encoded data removed]",
      "text/plain": [
       "<matplotlib.figure.Figure at 0x111650be0>"
      ]
     },
     "metadata": {},
     "output_type": "display_data"
    }
   ],
   "source": [
    "# Plot the pairwise matrix of neurotree minimum path lengths\n",
    "fig, ax = plt.subplots()\n",
    "heatmap = ax.pcolor(min_df)\n",
    "fig = plt.gcf()\n",
    "fig.set_size_inches(8, 8)\n",
    "\n",
    "ax.set_frame_on(False) # Turn off the frame\n",
    "ax.set_yticks(np.arange(min_df.shape[0]) + 0.5, minor=False) # add major ticks\n",
    "ax.set_xticks(np.arange(min_df.shape[1]) + 0.5, minor=False)\n",
    "ax.invert_yaxis() # Want a more natural, table-like display\n",
    "ax.xaxis.tick_top()\n",
    "labels = names\n",
    "ax.set_xticklabels(labels, minor=False)\n",
    "ax.set_yticklabels(labels, minor=False)\n",
    "plt.xticks(rotation=90)\n",
    "ax.grid(False)\n",
    "ax = plt.gca() # Turn off all the ticks\n",
    "\n",
    "for t in ax.xaxis.get_major_ticks():\n",
    "    t.tick1On = False\n",
    "    t.tick2On = False\n",
    "for t in ax.yaxis.get_major_ticks():\n",
    "    t.tick1On = False\n",
    "    t.tick2On = False"
   ]
  },
  {
   "cell_type": "markdown",
   "metadata": {},
   "source": [
    "## Build matrices and do prediction"
   ]
  },
  {
   "cell_type": "code",
   "execution_count": 20,
   "metadata": {
    "collapsed": true
   },
   "outputs": [],
   "source": [
    "y_var_names = ['rin','rmp','apthr','apamp','aphw','tau','ahpamp'] "
   ]
  },
  {
   "cell_type": "code",
   "execution_count": 21,
   "metadata": {
    "collapsed": false
   },
   "outputs": [
    {
     "name": "stdout",
     "output_type": "stream",
     "text": [
      "[BiScaler] Initial log residual value = 10.131649\n",
      "[BiScaler] Iter 1: log residual = -68.378380, log improvement ratio=78.510028\n",
      "[BiScaler] Iter 2: log residual = -68.378380, log improvement ratio=0.000000\n",
      "Computing pairwise distances between 112 samples\n",
      "Computing distances for sample #1/112, elapsed time: 0.000\n",
      "Computing distances for sample #101/112, elapsed time: 0.004\n",
      "Imputing row 1/112 with 3 missing columns, elapsed time: 0.005\n",
      "Imputing row 101/112 with 3 missing columns, elapsed time: 0.008\n",
      "[KNN] Warning: 7/784 still missing after imputation, replacing with 0\n",
      "[BiScaler] Initial log residual value = 10.155400\n",
      "[BiScaler] Iter 1: log residual = -66.330705, log improvement ratio=76.486105\n",
      "[BiScaler] Iter 2: log residual = -66.330705, log improvement ratio=0.000000\n",
      "Computing pairwise distances between 78 samples\n",
      "Computing distances for sample #1/78, elapsed time: 0.000\n",
      "Imputing row 1/78 with 3 missing columns, elapsed time: 0.002\n",
      "[KNN] Warning: 5/546 still missing after imputation, replacing with 0\n"
     ]
    }
   ],
   "source": [
    "def build_y(drop_no_neurotree=False):\n",
    "    # Define a matrix composed of CA1 publication ephys values\n",
    "    ndf = ca1_df[y_var_names+['NeuroTreeID']]\n",
    "    if drop_no_neurotree:\n",
    "        ndf = ndf.dropna(axis=0,subset=['NeuroTreeID'])\n",
    "    ndf = ndf.drop('NeuroTreeID',axis=1)\n",
    "    has_non_na_y_vals = ndf[y_var_names].isnull().all(axis=1)\n",
    "    ndf.loc[has_non_na_y_vals,'rin'] = 100\n",
    "    y_matrix = ndf.as_matrix()\n",
    "    #imputer = Imputer(strategy='median',axis=0)\n",
    "    biscaler = BiScaler(center_rows = False, scale_rows = False)\n",
    "    standardscaler = StandardScaler()\n",
    "    y_scaled = biscaler.fit_transform(y_matrix) # Center and scale columns to unit variance\n",
    "    y_imputed = KNN(k=3).complete(y_scaled)\n",
    "\n",
    "    # The final y matrix of ephys values\n",
    "    y_df = pd.DataFrame(y_imputed, index = ndf.index)\n",
    "    return y_df,y_imputed,y_scaled\n",
    "\n",
    "y_df,y_imputed,y_scaled = build_y()\n",
    "y_df_nt,y_imputed_nt,y_scaled_nt = build_y(drop_no_neurotree=True)"
   ]
  },
  {
   "cell_type": "code",
   "execution_count": 41,
   "metadata": {
    "collapsed": true
   },
   "outputs": [],
   "source": [
    "def build_x(ca1_df,min_df,fp_df,include_neurotree=False,drop_no_neurotree=False,include_neuroelectro=True):\n",
    "    # Now getting back to the analysis of the neuroelectro data\n",
    "    # Define a matrix composed of CA1 publication metadata values\n",
    "    # Uses ca1_df defined above, a subset of the neuroelectro data import\n",
    "    \n",
    "    # include_neurotree=False: don't use it\n",
    "    # include_neurotree='min': use the distances to the well-connected nodes\n",
    "    # include_neurotree='fp': use the fingerprint matrix\n",
    "    # drop_no_neurotree: drop those rows with no neurotree id\n",
    "    # include_neuroelectro: retain columns from neuroelectro\n",
    "    assert include_neurotree in [False,'min','fp']\n",
    "    \n",
    "    from sklearn.preprocessing import Imputer, StandardScaler\n",
    "    from fancyimpute import BiScaler, KNN, NuclearNormMinimization, SoftImpute\n",
    "    imputer = Imputer(strategy='median',axis=0)\n",
    "    biscaler = BiScaler(center_rows = False, scale_rows = False)\n",
    "    standardscaler = StandardScaler()\n",
    "\n",
    "    ne_features = ['Species','Strain','ElectrodeType',\n",
    "                'PrepType','JxnPotential','JxnOffset','RecTemp','AnimalAge','AnimalWeight',\n",
    "                'PubYear', \n",
    "                'external_0_Mg','external_0_Ca','external_0_Na','external_0_Cl','external_0_K',\n",
    "                'external_0_pH','internal_0_Mg',\n",
    "                'internal_0_Ca','internal_0_Na','internal_0_Cl','internal_0_K','internal_0_pH',]\n",
    "    x_features = ne_features.copy()\n",
    "    x_features += ['NeuroTreeID']\n",
    "\n",
    "    x_df = ca1_df[x_features]\n",
    "    x_df.loc[:,'AnimalAge'] = np.log10(x_df[['AnimalAge']])\n",
    "    x_df.loc[:,'JxnOffset'] = np.abs(x_df[['JxnOffset']])\n",
    "    \n",
    "    if include_neurotree == 'min':\n",
    "        x_features += list(min_df) # Add the path lengths to the well-connected nodes.  \n",
    "        for f in list(min_df):\n",
    "            vec = np.zeros(len(x_df['NeuroTreeID']))\n",
    "            for i in range(len(vec)):\n",
    "                nt_id = x_df['NeuroTreeID'].iloc[i]\n",
    "                if (nt_id is not None) and (nt_id in list(path_df)):\n",
    "                    vec[i] = path_df.loc[nt_id,f]\n",
    "                    if vec[i] == np.inf:\n",
    "                        vec[i] = 99\n",
    "                else:\n",
    "                    vec[i] = np.nan\n",
    "            x_df.loc[:,f] = vec\n",
    "            \n",
    "    if include_neurotree == 'fp':\n",
    "        x_features += list(fp_df) # Add the path lengths to the well-connected nodes.  \n",
    "        for f in list(fp_df):\n",
    "            vec = np.zeros(len(x_df['NeuroTreeID']))\n",
    "            for i in range(len(vec)):\n",
    "                nt_id = x_df['NeuroTreeID'].iloc[i]\n",
    "                if (nt_id is not None) and (nt_id in fp_df.index):\n",
    "                    vec[i] = fp_df.loc[nt_id,f]\n",
    "                    if vec[i] == np.inf:\n",
    "                        vec[i] = 99\n",
    "                else:\n",
    "                    vec[i] = np.nan\n",
    "            x_df.loc[:,f] = vec\n",
    "            \n",
    "    if drop_no_neurotree:\n",
    "        x_df = x_df.dropna(axis=0,subset=['NeuroTreeID'])\n",
    "    x_df = x_df.drop('NeuroTreeID',axis=1)\n",
    "    x_features.remove('NeuroTreeID') \n",
    "    \n",
    "    if not include_neuroelectro:\n",
    "        x_df = x_df.drop(ne_features,axis=1)\n",
    "        x_features = [f for f in x_features if f not in ne_features]\n",
    "        \n",
    "    # Replace columns of the feature matrix that contain labels (i.e. words) with columns\n",
    "    # of indicator variables.  Also re-encode NaNs.  \n",
    "    x_clean = None\n",
    "    new_features = []\n",
    "    for f in x_features:\n",
    "        mlb = None\n",
    "        col = x_df[f].as_matrix().copy()\n",
    "        try:\n",
    "            new_cols = col.astype('float').reshape(-1,1)\n",
    "        except ValueError:\n",
    "            options = []\n",
    "            for i in range(len(col)):\n",
    "                if type(col[i]) is float:\n",
    "                    col[i] = 'NaN'\n",
    "                col[i] = col[i].split(', ')\n",
    "                for option in col[i]:\n",
    "                    options.append(option)\n",
    "            options = list(set(options))\n",
    "            mlb = MultiLabelBinarizer()\n",
    "            new_cols = mlb.fit_transform(col)\n",
    "        if x_clean is not None:\n",
    "            x_clean = np.hstack((x_clean,new_cols))\n",
    "        else:\n",
    "            x_clean = new_cols\n",
    "        if mlb is None:\n",
    "            new_features += [f]\n",
    "        else:\n",
    "            new_features += ['%s_%s' % (f,mlb.classes_[i]) for i in range(new_cols.shape[1])]\n",
    "\n",
    "    # Center and scale columsn so they have unit variance\n",
    "    x_scaled = x_clean#biscaler.fit_transform(x_clean)\n",
    "    x_imputed = KNN(k=3).complete(x_scaled)\n",
    "\n",
    "    # The final data frame for metadata\n",
    "    x_df = pd.DataFrame(x_imputed, index = x_df.index, columns = new_features)\n",
    "    return x_df,x_imputed,new_features"
   ]
  },
  {
   "cell_type": "code",
   "execution_count": 81,
   "metadata": {
    "collapsed": false
   },
   "outputs": [],
   "source": [
    "def fit_model(y_imputed,y_scaled,x_imputed,x_imputed2=None,weight2=0.5,n_splits=25,max_features='auto'):\n",
    "    # Predict ephys parameters using the solution/species metadata in x_matrix_df\n",
    "    rfc = RandomForestRegressor(n_estimators=100,random_state=0,max_features=max_features)\n",
    "    n_obs = y_imputed.shape[0]\n",
    "    n_props = len(y_var_names)\n",
    "    ss = ShuffleSplit(n_obs,n_iter=n_splits,test_size=0.2,random_state=0)\n",
    "    rs = np.ma.zeros((n_props,n_splits))\n",
    "    n_features = x_imputed.shape[1]\n",
    "    if x_imputed2 is not None:\n",
    "        n_features += x_imputed2.shape[1]\n",
    "    important = np.zeros((n_features,n_splits))\n",
    "\n",
    "    # Fit the model, using cross-validation with 'n_splits' train/test splits.  \n",
    "    for i,(train,test) in enumerate(ss):\n",
    "        rfc.fit(x_imputed[train,:],y_imputed[train,:])\n",
    "        y_predict = rfc.predict(x_imputed[test,:])\n",
    "        importances = rfc.feature_importances_.copy()\n",
    "        if x_imputed2 is not None:\n",
    "            rfc.fit(x_imputed2[train,:],y_imputed[train,:])\n",
    "            y_predict2 = rfc.predict(x_imputed2[test,:])\n",
    "            y_predict = (1-weight2)*y_predict + weight2*y_predict2\n",
    "            importances2 = rfc.feature_importances_.copy()\n",
    "        y_obs = y_scaled[test,:]\n",
    "        y_obs = np.ma.array(y_obs,mask=np.isnan(y_obs))\n",
    "        for j in range(n_props):\n",
    "            rs[j,i] = np.ma.corrcoef(y_predict[:,j],y_obs[:,j])[0,1]\n",
    "            important[:x_imputed.shape[1],i] = importances\n",
    "            if x_imputed2 is not None:\n",
    "                important[x_imputed.shape[1]:,i] = importances2\n",
    "    return rs,important"
   ]
  },
  {
   "cell_type": "code",
   "execution_count": 25,
   "metadata": {
    "collapsed": true
   },
   "outputs": [],
   "source": [
    "from neurotree_api import get_neurotree_node_info\n",
    "def node2name(node):\n",
    "    node = int(node)\n",
    "    info = get_neurotree_node_info(node)\n",
    "    return '%s %s' % (info['firstname'],info['lastname'])"
   ]
  },
  {
   "cell_type": "code",
   "execution_count": 26,
   "metadata": {
    "collapsed": false
   },
   "outputs": [],
   "source": [
    "def report(rs,important,new_features):\n",
    "    # Mean out-of-sample correlation between predicted and actual ephys values\n",
    "    for j,ephys_prop in enumerate(y_var_names):\n",
    "        print('%s: %.2f +/- %.2f' % (ephys_prop,rs[j,:].mean(),rs[j,:].std()/np.sqrt(rs[j,:].count())))\n",
    "\n",
    "    # Top 10 most important features\n",
    "    print('')\n",
    "    important_ = important.mean(axis=1)\n",
    "    ranks = range(len(important_))\n",
    "    ranks = sorted(ranks,key=lambda x:important_[x],reverse=True)\n",
    "    for k in range(1,11):\n",
    "        feature = new_features[ranks[k]]    \n",
    "        try:\n",
    "            int(feature)\n",
    "        except:\n",
    "            pass\n",
    "        else:\n",
    "            feature = node2name(feature)\n",
    "        print('%d) %s' % (k,feature)) # Mean correlation across hold-out samples))"
   ]
  },
  {
   "cell_type": "code",
   "execution_count": 44,
   "metadata": {
    "collapsed": false
   },
   "outputs": [
    {
     "name": "stdout",
     "output_type": "stream",
     "text": [
      "Computing pairwise distances between 112 samples\n",
      "Computing distances for sample #1/112, elapsed time: 0.001\n",
      "Computing distances for sample #101/112, elapsed time: 0.004\n",
      "Imputing row 1/112 with 4 missing columns, elapsed time: 0.005\n",
      "Imputing row 101/112 with 13 missing columns, elapsed time: 0.011\n",
      "Computing pairwise distances between 78 samples\n",
      "Computing distances for sample #1/78, elapsed time: 0.001\n",
      "Imputing row 1/78 with 4 missing columns, elapsed time: 0.004\n",
      "Computing pairwise distances between 78 samples\n",
      "Computing distances for sample #1/78, elapsed time: 0.001\n",
      "Imputing row 1/78 with 39 missing columns, elapsed time: 0.004\n",
      "Computing pairwise distances between 78 samples\n",
      "Computing distances for sample #1/78, elapsed time: 0.001\n",
      "Imputing row 1/78 with 54 missing columns, elapsed time: 0.005\n",
      "Computing pairwise distances between 78 samples\n",
      "Computing distances for sample #1/78, elapsed time: 0.001\n",
      "No samples have sufficient overlap with sample 0\n",
      "No samples have sufficient overlap with sample 5\n",
      "No samples have sufficient overlap with sample 6\n",
      "No samples have sufficient overlap with sample 7\n",
      "No samples have sufficient overlap with sample 16\n",
      "No samples have sufficient overlap with sample 17\n",
      "No samples have sufficient overlap with sample 39\n",
      "No samples have sufficient overlap with sample 40\n",
      "No samples have sufficient overlap with sample 71\n",
      "No samples have sufficient overlap with sample 72\n",
      "Imputing row 1/78 with 35 missing columns, elapsed time: 0.003\n",
      "[KNN] Warning: 350/2730 still missing after imputation, replacing with 0\n",
      "Computing pairwise distances between 78 samples\n",
      "Computing distances for sample #1/78, elapsed time: 0.001\n",
      "No samples have sufficient overlap with sample 0\n",
      "No samples have sufficient overlap with sample 5\n",
      "No samples have sufficient overlap with sample 6\n",
      "No samples have sufficient overlap with sample 7\n",
      "No samples have sufficient overlap with sample 16\n",
      "No samples have sufficient overlap with sample 17\n",
      "No samples have sufficient overlap with sample 39\n",
      "No samples have sufficient overlap with sample 40\n",
      "No samples have sufficient overlap with sample 71\n",
      "No samples have sufficient overlap with sample 72\n",
      "Imputing row 1/78 with 50 missing columns, elapsed time: 0.003\n",
      "[KNN] Warning: 500/3900 still missing after imputation, replacing with 0\n"
     ]
    }
   ],
   "source": [
    "# Build X matrices for various kinds of neurotree data\n",
    "x_df,x_imputed,new_features = build_x(ca1_df,min_df,fp_df,include_neurotree=False)\n",
    "x_df_no,x_imputed_no,new_features_no = build_x(ca1_df,min_df,fp_df,include_neurotree=False,drop_no_neurotree=True)\n",
    "x_df_min,x_imputed_min,new_features_min = build_x(ca1_df,min_df,fp_df,include_neurotree='min',drop_no_neurotree=True)\n",
    "x_df_fp,x_imputed_fp,new_features_fp = build_x(ca1_df,min_df,fp_df,include_neurotree='fp',drop_no_neurotree=True)\n",
    "x_df_min_no_nt,x_imputed_min_no_nt,new_features_min_no_nt = build_x(ca1_df,min_df,fp_df,include_neurotree='min',\n",
    "                                                                 drop_no_neurotree=True,include_neuroelectro=False)\n",
    "x_df_fp_no_nt,x_imputed_fp_no_nt,new_features_fp_no_nt = build_x(ca1_df,min_df,fp_df,include_neurotree='fp',\n",
    "                                                                 drop_no_neurotree=True,include_neuroelectro=False)"
   ]
  },
  {
   "cell_type": "code",
   "execution_count": 28,
   "metadata": {
    "collapsed": false
   },
   "outputs": [
    {
     "name": "stdout",
     "output_type": "stream",
     "text": [
      "rin: 0.61 +/- 0.03\n",
      "rmp: 0.57 +/- 0.03\n",
      "apthr: 0.29 +/- 0.07\n",
      "apamp: 0.62 +/- 0.03\n",
      "aphw: 0.43 +/- 0.05\n",
      "tau: 0.44 +/- 0.04\n",
      "ahpamp: 0.51 +/- 0.08\n",
      "\n",
      "1) AnimalAge\n",
      "2) external_0_Cl\n",
      "3) internal_0_pH\n",
      "4) PubYear\n",
      "5) internal_0_Cl\n",
      "6) JxnOffset\n",
      "7) internal_0_Ca\n",
      "8) RecTemp\n",
      "9) external_0_Na\n",
      "10) internal_0_K\n"
     ]
    }
   ],
   "source": [
    "# Fit the model that excludes neurotree features\n",
    "rs,important = fit_model(y_imputed,y_scaled,x_imputed)\n",
    "report(rs,important,new_features)"
   ]
  },
  {
   "cell_type": "code",
   "execution_count": 29,
   "metadata": {
    "collapsed": false
   },
   "outputs": [
    {
     "name": "stdout",
     "output_type": "stream",
     "text": [
      "rin: 0.52 +/- 0.04\n",
      "rmp: 0.52 +/- 0.04\n",
      "apthr: 0.45 +/- 0.08\n",
      "apamp: 0.55 +/- 0.05\n",
      "aphw: 0.54 +/- 0.05\n",
      "tau: 0.39 +/- 0.08\n",
      "ahpamp: 0.58 +/- 0.08\n",
      "\n",
      "1) internal_0_pH\n",
      "2) JxnOffset\n",
      "3) external_0_Cl\n",
      "4) AnimalWeight\n",
      "5) internal_0_Cl\n",
      "6) PubYear\n",
      "7) RecTemp\n",
      "8) internal_0_Ca\n",
      "9) external_0_Na\n",
      "10) external_0_Ca\n"
     ]
    }
   ],
   "source": [
    "# Fit the model that excludes neurotree features, and drops observations with no neurotree IDs\n",
    "rs,important = fit_model(y_imputed_nt,y_scaled_nt,x_imputed_no)\n",
    "report(rs,important,new_features_no)"
   ]
  },
  {
   "cell_type": "code",
   "execution_count": 30,
   "metadata": {
    "collapsed": false
   },
   "outputs": [
    {
     "name": "stdout",
     "output_type": "stream",
     "text": [
      "rin: 0.51 +/- 0.04\n",
      "rmp: 0.56 +/- 0.03\n",
      "apthr: 0.47 +/- 0.06\n",
      "apamp: 0.51 +/- 0.05\n",
      "aphw: 0.43 +/- 0.07\n",
      "tau: 0.41 +/- 0.08\n",
      "ahpamp: 0.56 +/- 0.08\n",
      "\n",
      "1) AnimalAge\n",
      "2) external_0_Cl\n",
      "3) JxnOffset\n",
      "4) PubYear\n",
      "5) external_0_Na\n",
      "6) AnimalWeight\n",
      "7) external_0_Ca\n",
      "8) JxnPotential_Corrected\n",
      "9) internal_0_K\n",
      "10) external_0_Mg\n"
     ]
    }
   ],
   "source": [
    "# Fit the model that includes path lengths to min_df nodes (i.e. highly connected investigators),\n",
    "# and drops observations with no neurotree IDs\n",
    "rs,important = fit_model(y_imputed_nt,y_scaled_nt,x_imputed_min)\n",
    "report(rs,important,new_features_min)"
   ]
  },
  {
   "cell_type": "code",
   "execution_count": 31,
   "metadata": {
    "collapsed": false
   },
   "outputs": [
    {
     "name": "stdout",
     "output_type": "stream",
     "text": [
      "rin: 0.52 +/- 0.03\n",
      "rmp: 0.57 +/- 0.03\n",
      "apthr: 0.50 +/- 0.05\n",
      "apamp: 0.46 +/- 0.05\n",
      "aphw: 0.43 +/- 0.06\n",
      "tau: 0.43 +/- 0.08\n",
      "ahpamp: 0.53 +/- 0.08\n",
      "\n",
      "1) external_0_Cl\n",
      "2) internal_0_pH\n",
      "3) JxnOffset\n",
      "4) PubYear\n",
      "5) external_0_Na\n",
      "6) internal_0_K\n",
      "7) RecTemp\n",
      "8) external_0_Ca\n",
      "9) AnimalWeight\n",
      "10) internal_0_Ca\n"
     ]
    }
   ],
   "source": [
    "# Fit the model that includes path lengths to fp_df nodes (i.e. the 50 fingerprint investigators),\n",
    "# and drops observations with no neurotree IDs\n",
    "rs,important = fit_model(y_imputed_nt,y_scaled_nt,x_imputed_fp)\n",
    "report(rs,important,new_features_fp)"
   ]
  },
  {
   "cell_type": "code",
   "execution_count": 45,
   "metadata": {
    "collapsed": false
   },
   "outputs": [
    {
     "name": "stdout",
     "output_type": "stream",
     "text": [
      "rin: 0.24 +/- 0.04\n",
      "rmp: 0.24 +/- 0.04\n",
      "apthr: 0.22 +/- 0.08\n",
      "apamp: 0.10 +/- 0.08\n",
      "aphw: 0.14 +/- 0.08\n",
      "tau: 0.08 +/- 0.09\n",
      "ahpamp: -0.10 +/- 0.11\n",
      "\n",
      "1) Oswald Schmiedeberg\n",
      "2) Bert Sakmann\n",
      "3) Claude Bernard\n",
      "4) Stephen Kuffler\n",
      "5) Roger Nicoll\n",
      "6) Harvey Carr\n",
      "7) Archibald Hill\n",
      "8) Walter Cannon\n",
      "9) Edgar Adrian\n",
      "10) Philip Bard\n"
     ]
    }
   ],
   "source": [
    "# Fit the model that includes path lengths to fp_df nodes (i.e. the 50 fingerprint investigators),\n",
    "# and drops observations with no neurotree IDs\n",
    "rs,important = fit_model(y_imputed_nt,y_scaled_nt,x_imputed_fp_no_nt)\n",
    "report(rs,important,new_features_fp_no_nt)"
   ]
  },
  {
   "cell_type": "code",
   "execution_count": 46,
   "metadata": {
    "collapsed": false
   },
   "outputs": [
    {
     "name": "stdout",
     "output_type": "stream",
     "text": [
      "rin: 0.34 +/- 0.04\n",
      "rmp: 0.26 +/- 0.04\n",
      "apthr: 0.10 +/- 0.08\n",
      "apamp: 0.26 +/- 0.06\n",
      "aphw: 0.19 +/- 0.08\n",
      "tau: 0.15 +/- 0.08\n",
      "ahpamp: -0.21 +/- 0.10\n",
      "\n",
      "1) Scott Baraban\n",
      "2) Menahem Segal\n",
      "3) Andreas Draguhn\n",
      "4) Melanie Woodin\n",
      "5) Nelson Spruston\n",
      "6) Xiangmin Xu\n",
      "7) Geoffrey Murphy\n",
      "8) Peter Seeburg\n",
      "9) Michael Barish\n",
      "10) Bernard Schreurs\n"
     ]
    }
   ],
   "source": [
    "# Fit the model that includes path lengths to fp_df nodes (i.e. the 50 fingerprint investigators),\n",
    "# and drops observations with no neurotree IDs\n",
    "rs,important = fit_model(y_imputed_nt,y_scaled_nt,x_imputed_min_no_nt)\n",
    "report(rs,important,new_features_min_no_nt)"
   ]
  },
  {
   "cell_type": "code",
   "execution_count": 58,
   "metadata": {
    "collapsed": false
   },
   "outputs": [
    {
     "name": "stdout",
     "output_type": "stream",
     "text": [
      "rin: 0.53 +/- 0.03\n",
      "rmp: 0.48 +/- 0.04\n",
      "apthr: 0.42 +/- 0.08\n",
      "apamp: 0.49 +/- 0.04\n",
      "aphw: 0.44 +/- 0.07\n",
      "tau: 0.27 +/- 0.08\n",
      "ahpamp: 0.36 +/- 0.10\n",
      "\n",
      "1) AnimalAge\n",
      "2) internal_0_pH\n",
      "3) JxnOffset\n",
      "4) external_0_Cl\n",
      "5) Scott Baraban\n",
      "6) AnimalWeight\n",
      "7) internal_0_Cl\n",
      "8) PubYear\n",
      "9) RecTemp\n",
      "10) Menahem Segal\n"
     ]
    }
   ],
   "source": [
    "# Fit the model that includes path lengths to fp_df nodes (i.e. the 50 fingerprint investigators),\n",
    "# and drops observations with no neurotree IDs\n",
    "rs,important = fit_model(y_imputed_nt,y_scaled_nt,x_imputed_no,x_imputed2=x_imputed_min_no_nt)\n",
    "report(rs,important,new_features_no+new_features_min_no_nt)"
   ]
  },
  {
   "cell_type": "code",
   "execution_count": 59,
   "metadata": {
    "collapsed": false
   },
   "outputs": [
    {
     "name": "stdout",
     "output_type": "stream",
     "text": [
      "rin: 0.47 +/- 0.04\n",
      "rmp: 0.46 +/- 0.04\n",
      "apthr: 0.47 +/- 0.07\n",
      "apamp: 0.36 +/- 0.06\n",
      "aphw: 0.38 +/- 0.07\n",
      "tau: 0.27 +/- 0.07\n",
      "ahpamp: 0.41 +/- 0.09\n",
      "\n",
      "1) AnimalAge\n",
      "2) internal_0_pH\n",
      "3) JxnOffset\n",
      "4) external_0_Cl\n",
      "5) Oswald Schmiedeberg\n",
      "6) Bert Sakmann\n",
      "7) AnimalWeight\n",
      "8) internal_0_Cl\n",
      "9) PubYear\n",
      "10) RecTemp\n"
     ]
    }
   ],
   "source": [
    "# Fit the model that includes path lengths to fp_df nodes (i.e. the 50 fingerprint investigators),\n",
    "# and drops observations with no neurotree IDs\n",
    "rs,important = fit_model(y_imputed_nt,y_scaled_nt,x_imputed_no,x_imputed2=x_imputed_fp_no_nt)\n",
    "report(rs,important,new_features_no+new_features_fp_no_nt)"
   ]
  },
  {
   "cell_type": "code",
   "execution_count": 82,
   "metadata": {
    "collapsed": false
   },
   "outputs": [
    {
     "name": "stdout",
     "output_type": "stream",
     "text": [
      "0\n",
      "1\n",
      "2\n",
      "3\n",
      "4\n",
      "5\n",
      "6\n",
      "7\n",
      "8\n",
      "9\n",
      "10\n",
      "11\n",
      "12\n",
      "13\n",
      "14\n",
      "15\n",
      "16\n",
      "17\n",
      "18\n",
      "19\n",
      "20\n",
      "21\n",
      "22\n",
      "23\n",
      "24\n"
     ]
    }
   ],
   "source": [
    "rs2 = np.zeros((25,7))\n",
    "for i,weight2 in enumerate(np.linspace(0,1,rs2.shape[0])):\n",
    "    print(i)\n",
    "    rs,important = fit_model(y_imputed_nt,y_scaled_nt,x_imputed_no,x_imputed2=x_imputed_fp_no_nt,weight2=weight2,n_splits=100)\n",
    "    rs2[i,:] = rs.mean(axis=1)"
   ]
  },
  {
   "cell_type": "code",
   "execution_count": 83,
   "metadata": {
    "collapsed": false
   },
   "outputs": [
    {
     "data": {
      "text/plain": [
       "<matplotlib.text.Text at 0x114a3ddd8>"
      ]
     },
     "execution_count": 83,
     "metadata": {},
     "output_type": "execute_result"
    },
    {
     "data": {
      "image/png": "[encoded data removed]",
      "text/plain": [
       "<matplotlib.figure.Figure at 0x114a48b70>"
      ]
     },
     "metadata": {},
     "output_type": "display_data"
    }
   ],
   "source": [
    "plt.figure(figsize=(5,5))\n",
    "lineObjects = plt.plot(np.linspace(0,1,rs2.shape[0]),rs2)\n",
    "plt.legend(iter(lineObjects), y_var_names,loc=3)\n",
    "plt.xlabel('Fractional contribution of NeuroTree')\n",
    "plt.ylabel('Correlation between predicted and observed ephys data')"
   ]
  },
  {
   "cell_type": "code",
   "execution_count": 84,
   "metadata": {
    "collapsed": false
   },
   "outputs": [
    {
     "name": "stdout",
     "output_type": "stream",
     "text": [
      "0\n",
      "1\n",
      "2\n",
      "3\n",
      "4\n",
      "5\n",
      "6\n",
      "7\n",
      "8\n",
      "9\n",
      "10\n",
      "11\n",
      "12\n",
      "13\n",
      "14\n",
      "15\n",
      "16\n",
      "17\n",
      "18\n",
      "19\n",
      "20\n",
      "21\n",
      "22\n",
      "23\n",
      "24\n"
     ]
    }
   ],
   "source": [
    "rs2 = np.zeros((25,7))\n",
    "for i,weight2 in enumerate(np.linspace(0,1,rs2.shape[0])):\n",
    "    print(i)\n",
    "    rs,important = fit_model(y_imputed_nt,y_scaled_nt,x_imputed_no,x_imputed2=x_imputed_min_no_nt,weight2=weight2,n_splits=100)\n",
    "    rs2[i,:] = rs.mean(axis=1)"
   ]
  },
  {
   "cell_type": "code",
   "execution_count": 85,
   "metadata": {
    "collapsed": false
   },
   "outputs": [
    {
     "data": {
      "text/plain": [
       "<matplotlib.text.Text at 0x1149c81d0>"
      ]
     },
     "execution_count": 85,
     "metadata": {},
     "output_type": "execute_result"
    },
    {
     "data": {
      "image/png": "[encoded data removed]",
      "text/plain": [
       "<matplotlib.figure.Figure at 0x1149acf98>"
      ]
     },
     "metadata": {},
     "output_type": "display_data"
    }
   ],
   "source": [
    "plt.figure(figsize=(5,5))\n",
    "lineObjects = plt.plot(np.linspace(0,1,rs2.shape[0]),rs2)\n",
    "plt.legend(iter(lineObjects), y_var_names,loc=3)\n",
    "plt.xlabel('Fractional contribution of NeuroTree')\n",
    "plt.ylabel('Correlation between predicted and observed ephys data')"
   ]
  }
 ],
 "metadata": {
  "kernelspec": {
   "display_name": "Python 3",
   "language": "python",
   "name": "python3"
  },
  "language_info": {
   "codemirror_mode": {
    "name": "ipython",
    "version": 3
   },
   "file_extension": ".py",
   "mimetype": "text/x-python",
   "name": "python",
   "nbconvert_exporter": "python",
   "pygments_lexer": "ipython3",
   "version": "3.4.1"
  }
 },
 "nbformat": 4,
 "nbformat_minor": 0
}
