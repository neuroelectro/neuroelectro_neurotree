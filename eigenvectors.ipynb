{
 "cells": [
  {
   "cell_type": "code",
   "execution_count": 1,
   "metadata": {
    "collapsed": true
   },
   "outputs": [],
   "source": [
    "%matplotlib inline\n",
    "import numpy as np\n",
    "import json\n",
    "import matplotlib.pyplot as plt"
   ]
  },
  {
   "cell_type": "code",
   "execution_count": 2,
   "metadata": {
    "collapsed": false
   },
   "outputs": [],
   "source": [
    "# Load the NeuroTree distance file.  \n",
    "with open('dist_mtx.txt','rb') as f:\n",
    "    dist_data = json.loads(f.read().decode('latin1'))"
   ]
  },
  {
   "cell_type": "code",
   "execution_count": 3,
   "metadata": {
    "collapsed": false
   },
   "outputs": [],
   "source": [
    "# Parse the NeuroTree distance file into a matrix.  \n",
    "ancestors = list(set([x['p0'] for x in dist_data])) # Extract ancestor list\n",
    "regulars = list(set([x['p1'] for x in dist_data]).union(set([x['p2'] for x in dist_data]))) # Extract regular list.  \n",
    "n_regulars = len(regulars) # Number of regulars.\n",
    "dist_matrix = -1.0 * np.ones((n_regulars,n_regulars)) # Matrix of distances, filled with -1 (no path).  \n",
    "for entry in dist_data: # Iterate over entries in the distance data.  \n",
    "    p0,p1,p2,d = [entry[i] for i in ['p0','p1','p2','d']]\n",
    "    d = np.inf if d=='-1' else int(d)\n",
    "    x1 = regulars.index(p1) # Matrix index of individual with id p1.  \n",
    "    x2 = regulars.index(p2) # Matrix index of individual with id p2.  \n",
    "    dist_matrix[x1,x2] = d # Set forward distance to d.  \n",
    "    dist_matrix[x2,x1] = d # Set reverse distance to d (for symmetry).  \n",
    "for i in range(n_regulars): # For each individual.  \n",
    "    dist_matrix[i,i] = 0 # Set the diagonal entry (self distance) to 0.  "
   ]
  },
  {
   "cell_type": "code",
   "execution_count": 4,
   "metadata": {
    "collapsed": false
   },
   "outputs": [],
   "source": [
    "# Create an adjacency matrix.  \n",
    "adj_matrix = (dist_matrix==1).astype(int)"
   ]
  },
  {
   "cell_type": "code",
   "execution_count": 5,
   "metadata": {
    "collapsed": false
   },
   "outputs": [],
   "source": [
    "# Compute its eigenvalues and eigenvectors\n",
    "evls,evcts = np.linalg.eigh(adj_matrix)"
   ]
  },
  {
   "cell_type": "code",
   "execution_count": 6,
   "metadata": {
    "collapsed": false
   },
   "outputs": [
    {
     "data": {
      "image/png": "[encoded data removed]",
      "text/plain": [
       "<matplotlib.figure.Figure at 0x10b3145f8>"
      ]
     },
     "metadata": {},
     "output_type": "display_data"
    }
   ],
   "source": [
    "#Plot eigenvalues in ascending order\n",
    "plt.plot(evls);"
   ]
  },
  {
   "cell_type": "code",
   "execution_count": 7,
   "metadata": {
    "collapsed": false
   },
   "outputs": [
    {
     "data": {
      "image/png": "[encoded data removed]",
      "text/plain": [
       "<matplotlib.figure.Figure at 0x1059610b8>"
      ]
     },
     "metadata": {},
     "output_type": "display_data"
    },
    {
     "data": {
      "image/png": "[encoded data removed]",
      "text/plain": [
       "<matplotlib.figure.Figure at 0x105961d30>"
      ]
     },
     "metadata": {},
     "output_type": "display_data"
    }
   ],
   "source": [
    "# Plot node weights for the last eigenvector (corresponding to the most positive eigenvalue)\n",
    "plt.plot(evcts[:,-1])\n",
    "plt.figure()\n",
    "# Plot node weights for the second to last eigenvector (corresponding to the second most positive eigenvalue)\n",
    "plt.plot(evcts[:,-2]);"
   ]
  },
  {
   "cell_type": "code",
   "execution_count": 8,
   "metadata": {
    "collapsed": false
   },
   "outputs": [
    {
     "data": {
      "text/plain": [
       "(58, 437)"
      ]
     },
     "execution_count": 8,
     "metadata": {},
     "output_type": "execute_result"
    }
   ],
   "source": [
    "# How many ancestors among the nodes we have in the matrix, vs ancestors overall?\n",
    "len(set(regulars).intersection(ancestors)),len(ancestors)"
   ]
  },
  {
   "cell_type": "code",
   "execution_count": 9,
   "metadata": {
    "collapsed": false
   },
   "outputs": [],
   "source": [
    "# A node name extraction function.  \n",
    "from neurotree_api import get_neurotree_node_info\n",
    "def node2name(node):\n",
    "    node = int(node)\n",
    "    info = get_neurotree_node_info(node)\n",
    "    return '%s %s' % (info['firstname'],info['lastname'])"
   ]
  },
  {
   "cell_type": "code",
   "execution_count": 10,
   "metadata": {
    "collapsed": false
   },
   "outputs": [
    {
     "name": "stdout",
     "output_type": "stream",
     "text": [
      "Eigenvector 0:\n",
      "\t1) Bert Sakmann\n",
      "\t2) Andreas Draguhn\n",
      "\t3) Peter Jonas\n",
      "\t4) Jason Kerr\n",
      "\t5) Greg Stuart\n",
      "Eigenvector 1:\n",
      "\t1) David Prince\n",
      "\t2) Phillip Schwartzkroin\n",
      "\t3) Barry Connors\n",
      "\t4) John Huguenard\n",
      "\t5) Tom Brown\n",
      "Eigenvector 2:\n",
      "\t1) Jean Rossier\n",
      "\t2) Rodolfo Llinu00e1s\n",
      "\t3) Serge Charpak\n",
      "\t4) Etienne Audinat\n",
      "\t5) Jacques Glowinski\n",
      "Eigenvector 3:\n",
      "\t1) Phillip Schwartzkroin\n",
      "\t2) Paul Buckmaster\n",
      "\t3) Barry Connors\n",
      "\t4) Scott Baraban\n",
      "\t5) F Dudek\n",
      "Eigenvector 4:\n",
      "\t1) Rodolfo Llinu00e1s\n",
      "\t2) Jean Rossier\n",
      "\t3) Anthony Grace\n",
      "\t4) Etienne Audinat\n",
      "\t5) Brian Macvicar\n",
      "Eigenvector 5:\n",
      "\t1) Peter Somogyi\n",
      "\t2) Eberhard Buhl\n",
      "\t3) Dominique Engel\n",
      "\t4) Zoltan Nusser\n",
      "\t5) Stuart Cobb\n",
      "Eigenvector 6:\n",
      "\t1) Stephen Kitai\n",
      "\t2) Barry Connors\n",
      "\t3) Gerald Finnerty\n",
      "\t4) John Jefferys\n",
      "\t5) Charles Wilson\n",
      "Eigenvector 7:\n",
      "\t1) Stephen Kitai\n",
      "\t2) Charles Wilson\n",
      "\t3) Dietmar Plenz\n",
      "\t4) Yasuo Kawaguchi\n",
      "\t5) John Jefferys\n",
      "Eigenvector 8:\n",
      "\t1) F Dudek\n",
      "\t2) Scott Baraban\n",
      "\t3) Sanjay Kumar\n",
      "\t4) Paul Buckmaster\n",
      "\t5) John Huguenard\n",
      "Eigenvector 9:\n",
      "\t1) German Barrionuevo\n",
      "\t2) Tom Brown\n",
      "\t3) Sven Kroener\n",
      "\t4) Nathan Urban\n",
      "\t5) John Jefferys\n"
     ]
    }
   ],
   "source": [
    "# Print important nodes in each eigenvector.  \n",
    "# The nodes within an eigenvector are not necessarily related (although they often will be).\n",
    "# In some cases they can be opposing forces (i.e. together they are informative about lineage).\n",
    "\n",
    "for rank in range(10):\n",
    "    eigenvector = np.abs(evcts[:,-1-rank]) # Take absolute value so we can find most important values \n",
    "                                           # and not worry about sign.  \n",
    "    results = sorted(zip(eigenvector,regulars),key=lambda x:x[0],reverse=True) # Sort nodes by weight in eigenvector.\n",
    "    print(\"Eigenvector %d:\" % rank)\n",
    "    for depth in range(5): # Print the top 5 nodes in each eigenvector.  \n",
    "        print(\"\\t%d) %s\" % (depth+1,node2name(results[depth][1])))"
   ]
  }
 ],
 "metadata": {
  "kernelspec": {
   "display_name": "Python 3",
   "language": "python",
   "name": "python3"
  },
  "language_info": {
   "codemirror_mode": {
    "name": "ipython",
    "version": 3
   },
   "file_extension": ".py",
   "mimetype": "text/x-python",
   "name": "python",
   "nbconvert_exporter": "python",
   "pygments_lexer": "ipython3",
   "version": "3.4.1"
  }
 },
 "nbformat": 4,
 "nbformat_minor": 0
}
